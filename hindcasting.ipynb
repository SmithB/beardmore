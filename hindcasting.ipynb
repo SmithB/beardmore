{
 "cells": [
  {
   "cell_type": "code",
   "execution_count": null,
   "id": "d9c9cb1f",
   "metadata": {},
   "outputs": [],
   "source": [
    "import matplotlib.pyplot as plt\n",
    "import numpy as np\n",
    "import rasterio\n",
    "import firedrake\n",
    "from firedrake import assemble, Constant, sqrt, inner, grad, dx, ds\n",
    "import icepack\n",
    "from icepack.constants import ice_density as ρ_I, gravity as g"
   ]
  },
  {
   "cell_type": "markdown",
   "id": "7a3abd99",
   "metadata": {},
   "source": [
    "Load in the work from the previous notebook."
   ]
  },
  {
   "cell_type": "code",
   "execution_count": null,
   "id": "20e1492e",
   "metadata": {},
   "outputs": [],
   "source": [
    "filename = \"modern_state.h5\"\n",
    "with firedrake.CheckpointFile(filename, \"r\") as chk:\n",
    "    mesh = chk.load_mesh()\n",
    "    C = chk.load_function(mesh, \"friction\")\n",
    "    u_0 = chk.load_function(mesh, \"velocity\")"
   ]
  },
  {
   "cell_type": "code",
   "execution_count": null,
   "id": "4e15c7b5",
   "metadata": {},
   "outputs": [],
   "source": [
    "coords = mesh.coordinates.dat.data_ro[:]\n",
    "delta = 10e3\n",
    "xmin, xmax = coords[:, 0].min() - delta, coords[:, 0].max() + delta\n",
    "ymin, ymax = coords[:, 1].min() - delta, coords[:, 1].max() + delta\n",
    "\n",
    "image_filename = icepack.datasets.fetch_mosaic_of_antarctica()\n",
    "with rasterio.open(image_filename, \"r\") as image_file:\n",
    "    height, width = image_file.height, image_file.width\n",
    "    transform = image_file.transform\n",
    "    window = rasterio.windows.from_bounds(\n",
    "        left=xmin,\n",
    "        bottom=ymin,\n",
    "        right=xmax,\n",
    "        top=ymax,\n",
    "        transform=transform,\n",
    "    )\n",
    "    image = image_file.read(indexes=1, window=window, masked=True)\n",
    "    \n",
    "def subplots(*args, **kwargs):\n",
    "    fig, axes = plt.subplots()\n",
    "    axes.set_aspect(\"equal\")\n",
    "    xmin, ymin, xmax, ymax = rasterio.windows.bounds(window, transform)\n",
    "    axes.imshow(\n",
    "        image,\n",
    "        cmap=\"Greys_r\",\n",
    "        vmin=12e3,\n",
    "        vmax=16.38e3,\n",
    "        extent=(xmin, xmax, ymin, ymax),\n",
    "    )\n",
    "\n",
    "    return fig, axes"
   ]
  },
  {
   "cell_type": "code",
   "execution_count": null,
   "id": "a4624973",
   "metadata": {},
   "outputs": [],
   "source": [
    "Q = firedrake.FunctionSpace(mesh, \"CG\", 2)\n",
    "V = firedrake.VectorFunctionSpace(mesh, \"CG\", 2)"
   ]
  },
  {
   "cell_type": "code",
   "execution_count": null,
   "id": "ef90e56d",
   "metadata": {},
   "outputs": [],
   "source": [
    "bedmachine_filename = icepack.datasets.fetch_bedmachine_antarctica()\n",
    "thickness_filename = f\"netcdf:{bedmachine_filename}:thickness\"\n",
    "with rasterio.open(thickness_filename, \"r\") as thickness_file:\n",
    "    h_obs = icepack.interpolate(thickness_file, Q)\n",
    "    \n",
    "surface_filename = f\"netcdf:{bedmachine_filename}:surface\"\n",
    "with rasterio.open(surface_filename, \"r\") as surface_file:\n",
    "    s_obs = icepack.interpolate(surface_file, Q)"
   ]
  },
  {
   "cell_type": "code",
   "execution_count": null,
   "id": "eaef724d",
   "metadata": {},
   "outputs": [],
   "source": [
    "b = firedrake.interpolate(s_obs - h_obs, Q)"
   ]
  },
  {
   "cell_type": "code",
   "execution_count": null,
   "id": "b9885c2e",
   "metadata": {},
   "outputs": [],
   "source": [
    "a = Constant(0.15)"
   ]
  },
  {
   "cell_type": "code",
   "execution_count": null,
   "id": "9f4da347",
   "metadata": {},
   "outputs": [],
   "source": [
    "T = Constant(260.0)\n",
    "A = icepack.rate_factor(T)"
   ]
  },
  {
   "cell_type": "code",
   "execution_count": null,
   "id": "e8fe8060",
   "metadata": {},
   "outputs": [],
   "source": [
    "def terminus(**kwargs):\n",
    "    u = kwargs[\"velocity\"]\n",
    "    h = kwargs[\"thickness\"]\n",
    "    s = kwargs[\"surface\"]\n",
    "    h_D = kwargs[\"thickness_downstream\"]\n",
    "\n",
    "    τ_I = 0.5 * ρ_I * g * h**2\n",
    "    τ_D = 0.5 * ρ_I * g * h_D**2\n",
    "\n",
    "    ν = firedrake.FacetNormal(mesh)\n",
    "    return (τ_I - τ_D) * inner(u, ν)"
   ]
  },
  {
   "cell_type": "code",
   "execution_count": null,
   "id": "a6515180",
   "metadata": {},
   "outputs": [],
   "source": [
    "model = icepack.models.IceStream(terminus=terminus)\n",
    "opts = {\n",
    "    \"dirichlet_ids\": [1, 2, 3, 5, 6, 7],\n",
    "    \"diagnostic_solver_type\": \"petsc\",\n",
    "    \"diagnostic_solver_parameters\": {\n",
    "        \"snes_type\": \"newtontr\",\n",
    "        \"ksp_type\": \"gmres\",\n",
    "        \"pc_type\": \"lu\",\n",
    "        \"pc_factor_mat_solver_type\": \"mumps\",\n",
    "    },\n",
    "}\n",
    "solver = icepack.solvers.FlowSolver(model, **opts)"
   ]
  },
  {
   "cell_type": "markdown",
   "id": "1b09b716",
   "metadata": {},
   "source": [
    "Smooth over the modern thickness a bit.\n",
    "No sense matching to weird oscillatory garbage."
   ]
  },
  {
   "cell_type": "code",
   "execution_count": null,
   "id": "3ccfdef8",
   "metadata": {},
   "outputs": [],
   "source": [
    "h_target = h_obs.copy(deepcopy=True)\n",
    "α = Constant(2e3)\n",
    "J_misfit = 0.5 * (h_target - h_obs)**2 * dx\n",
    "J_penalty = 0.5 * α**2 * inner(grad(h_target), grad(h_target)) * dx\n",
    "J = J_misfit + J_penalty\n",
    "F = firedrake.derivative(J, h_target)\n",
    "firedrake.solve(F == 0, h_target)"
   ]
  },
  {
   "cell_type": "markdown",
   "id": "57d22e73",
   "metadata": {},
   "source": [
    "Let's look at the RMS average misfit between this smoothed target thickness and observations."
   ]
  },
  {
   "cell_type": "code",
   "execution_count": null,
   "id": "6c21021d",
   "metadata": {},
   "outputs": [],
   "source": [
    "area = Constant(assemble(Constant(1) * dx(mesh)))\n",
    "rmse = np.sqrt(assemble(1 / area * (h_target - h_obs)**2 * dx))\n",
    "print(f\"RMS error: {rmse}\")"
   ]
  },
  {
   "cell_type": "markdown",
   "id": "5e2b5014",
   "metadata": {},
   "source": [
    "We'll assume the thickness at the ice front has been the same for the entire duration.\n",
    "This should become a control!"
   ]
  },
  {
   "cell_type": "code",
   "execution_count": null,
   "id": "4bcf086e",
   "metadata": {},
   "outputs": [],
   "source": [
    "h_D = h_target.copy(deepcopy=True)"
   ]
  },
  {
   "cell_type": "markdown",
   "id": "5ea6d969",
   "metadata": {},
   "source": [
    "Since we're tweaking the thickness a bit, we'll want to recompute the velocity."
   ]
  },
  {
   "cell_type": "code",
   "execution_count": null,
   "id": "4538244f",
   "metadata": {},
   "outputs": [],
   "source": [
    "u_target = solver.diagnostic_solve(\n",
    "    velocity=u_0,\n",
    "    thickness=h_target,\n",
    "    surface=s_obs,\n",
    "    fluidity=A,\n",
    "    friction=C,\n",
    "    thickness_downstream=h_D,\n",
    ")"
   ]
  },
  {
   "cell_type": "markdown",
   "id": "6db62d36",
   "metadata": {},
   "source": [
    "Define the simulation we want to run."
   ]
  },
  {
   "cell_type": "code",
   "execution_count": null,
   "id": "792d012e",
   "metadata": {},
   "outputs": [],
   "source": [
    "final_time = 2021.0\n",
    "start_time = 1921.0\n",
    "dt = 1 / 6\n",
    "num_steps = int((final_time - start_time) / dt)"
   ]
  },
  {
   "cell_type": "code",
   "execution_count": null,
   "id": "7114c505",
   "metadata": {},
   "outputs": [],
   "source": [
    "def simulation(h_initial):\n",
    "    h = h_initial.copy(deepcopy=True)\n",
    "\n",
    "    s = icepack.compute_surface(thickness=h, bed=b)\n",
    "    u = solver.diagnostic_solve(\n",
    "        velocity=u_target,\n",
    "        thickness=h,\n",
    "        surface=s,\n",
    "        fluidity=A,\n",
    "        friction=C,\n",
    "        thickness_downstream=h_D,\n",
    "    )\n",
    "    \n",
    "    for step in range(num_steps):\n",
    "        h = solver.prognostic_solve(\n",
    "            dt,\n",
    "            thickness=h,\n",
    "            velocity=u,\n",
    "            accumulation=a,\n",
    "            thickness_inflow=h_target,\n",
    "        )\n",
    "    \n",
    "    return h"
   ]
  },
  {
   "cell_type": "code",
   "execution_count": null,
   "id": "6e5cbe15",
   "metadata": {},
   "outputs": [],
   "source": [
    "σ_h = Constant(rmse)\n",
    "def loss_functional(h_final):\n",
    "    return 0.5 / area * ((h_final - h_target) / σ_h)**2 * dx"
   ]
  },
  {
   "cell_type": "code",
   "execution_count": null,
   "id": "9760697b",
   "metadata": {},
   "outputs": [],
   "source": [
    "def regularization(h_initial):\n",
    "    α = Constant(2e3)\n",
    "    return 0.5 * (α / σ_h)**2 / area * inner(grad(h_initial), grad(h_initial)) * dx"
   ]
  },
  {
   "cell_type": "code",
   "execution_count": null,
   "id": "29507a64",
   "metadata": {},
   "outputs": [],
   "source": [
    "h_initial = h_target.copy(deepcopy=True)"
   ]
  },
  {
   "cell_type": "code",
   "execution_count": null,
   "id": "11d034f9",
   "metadata": {},
   "outputs": [],
   "source": [
    "from icepack.statistics import (\n",
    "    StatisticsProblem,\n",
    "    MaximumProbabilityEstimator,\n",
    ")\n",
    "\n",
    "stats_problem = StatisticsProblem(\n",
    "    simulation=simulation,\n",
    "    loss_functional=loss_functional,\n",
    "    regularization=regularization,\n",
    "    controls=h_initial,\n",
    ")\n",
    "\n",
    "estimator = MaximumProbabilityEstimator(\n",
    "    stats_problem,\n",
    "    gradient_tolerance=1e-12,\n",
    "    step_tolerance=5e-14,\n",
    ")"
   ]
  },
  {
   "cell_type": "code",
   "execution_count": null,
   "id": "d692174c",
   "metadata": {},
   "outputs": [],
   "source": [
    "h_min = estimator.solve()"
   ]
  }
 ],
 "metadata": {
  "kernelspec": {
   "display_name": "firedrake",
   "language": "python",
   "name": "firedrake"
  },
  "language_info": {
   "codemirror_mode": {
    "name": "ipython",
    "version": 3
   },
   "file_extension": ".py",
   "mimetype": "text/x-python",
   "name": "python",
   "nbconvert_exporter": "python",
   "pygments_lexer": "ipython3",
   "version": "3.10.2"
  }
 },
 "nbformat": 4,
 "nbformat_minor": 5
}
