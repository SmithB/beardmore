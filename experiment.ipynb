{
 "cells": [
  {
   "cell_type": "code",
   "execution_count": null,
   "id": "e82a8d5c",
   "metadata": {},
   "outputs": [],
   "source": [
    "import tqdm\n",
    "import matplotlib.pyplot as plt\n",
    "import numpy as np\n",
    "import rasterio\n",
    "import firedrake\n",
    "from firedrake import assemble, Constant, min_value, max_value, inner, grad, dx, ds\n",
    "import icepack\n",
    "from icepack.constants import ice_density as ρ_I, gravity as g"
   ]
  },
  {
   "cell_type": "code",
   "execution_count": null,
   "id": "67a528be",
   "metadata": {},
   "outputs": [],
   "source": [
    "filename = \"spin_up_state.h5\"\n",
    "with firedrake.CheckpointFile(filename, \"r\") as chk:\n",
    "    mesh = chk.load_mesh()\n",
    "    C = chk.load_function(mesh, \"friction\")\n",
    "    h_0 = chk.load_function(mesh, \"thickness\")\n",
    "    s_0 = chk.load_function(mesh, \"surface\")\n",
    "    u_0 = chk.load_function(mesh, \"velocity\")\n",
    "    \n",
    "Q = h_0.function_space()\n",
    "V = u_0.function_space()"
   ]
  },
  {
   "cell_type": "code",
   "execution_count": null,
   "id": "81c84b00",
   "metadata": {},
   "outputs": [],
   "source": [
    "coords = mesh.coordinates.dat.data_ro[:]\n",
    "\n",
    "xmin, xmax = coords[:, 0].min(), coords[:, 0].max()\n",
    "ymin, ymax = coords[:, 1].min(), coords[:, 1].max()"
   ]
  },
  {
   "cell_type": "code",
   "execution_count": null,
   "id": "165d5f12",
   "metadata": {},
   "outputs": [],
   "source": [
    "delta = 10e3\n",
    "\n",
    "image_filename = icepack.datasets.fetch_mosaic_of_antarctica()\n",
    "with rasterio.open(image_filename, \"r\") as image_file:\n",
    "    height, width = image_file.height, image_file.width\n",
    "    transform = image_file.transform\n",
    "    window = rasterio.windows.from_bounds(\n",
    "        left=xmin - delta,\n",
    "        bottom=ymin - delta,\n",
    "        right=xmax + delta,\n",
    "        top=ymax + delta,\n",
    "        transform=transform,\n",
    "    )\n",
    "    image = image_file.read(indexes=1, window=window, masked=True)\n",
    "\n",
    "def subplots(*args, **kwargs):\n",
    "    fig, axes = plt.subplots(*args, **kwargs)\n",
    "    axes.set_aspect(\"equal\")\n",
    "    xmin, ymin, xmax, ymax = rasterio.windows.bounds(window, transform)\n",
    "    axes.imshow(\n",
    "        image,\n",
    "        cmap=\"Greys_r\",\n",
    "        vmin=12e3,\n",
    "        vmax=16.38e3,\n",
    "        extent=(xmin, xmax, ymin, ymax),\n",
    "    )\n",
    "\n",
    "    return fig, axes"
   ]
  },
  {
   "cell_type": "code",
   "execution_count": null,
   "id": "a01508bc",
   "metadata": {},
   "outputs": [],
   "source": [
    "fig, axes = subplots()\n",
    "firedrake.triplot(mesh, axes=axes)\n",
    "axes.legend();"
   ]
  },
  {
   "cell_type": "code",
   "execution_count": null,
   "id": "1df5f514",
   "metadata": {},
   "outputs": [],
   "source": [
    "Q = h_0.function_space()\n",
    "V = u_0.function_space()"
   ]
  },
  {
   "cell_type": "code",
   "execution_count": null,
   "id": "41557190",
   "metadata": {},
   "outputs": [],
   "source": [
    "b = firedrake.interpolate(s_0 - h_0, Q)"
   ]
  },
  {
   "cell_type": "code",
   "execution_count": null,
   "id": "4fceefeb",
   "metadata": {},
   "outputs": [],
   "source": [
    "def terminus(**kwargs):\n",
    "    u = kwargs[\"velocity\"]\n",
    "    h = kwargs[\"thickness\"]\n",
    "    s = kwargs[\"surface\"]\n",
    "    h_D = kwargs[\"thickness_downstream\"]\n",
    "    \n",
    "    τ_I = 0.5 * ρ_I * g * h**2\n",
    "    τ_D = 0.5 * ρ_I * g * h_D**2\n",
    "\n",
    "    ν = firedrake.FacetNormal(mesh)\n",
    "    return (τ_I - τ_D) * inner(u, ν)"
   ]
  },
  {
   "cell_type": "code",
   "execution_count": null,
   "id": "510f7d54",
   "metadata": {},
   "outputs": [],
   "source": [
    "model = icepack.models.IceStream(terminus=terminus)\n",
    "opts = {\n",
    "    \"dirichlet_ids\": [1, 2, 3, 5, 6, 7],\n",
    "    \"diagnostic_solver_type\": \"petsc\",\n",
    "    \"diagnostic_solver_parameters\": {\n",
    "        \"snes_max_it\": 100,\n",
    "        \"snes_type\": \"newtontr\",\n",
    "        \"ksp_type\": \"gmres\",\n",
    "        \"pc_type\": \"lu\",\n",
    "        \"pc_factor_mat_solver_type\": \"mumps\",\n",
    "    },\n",
    "}\n",
    "solver = icepack.solvers.FlowSolver(model, **opts)"
   ]
  },
  {
   "cell_type": "code",
   "execution_count": null,
   "id": "d3475aa3",
   "metadata": {},
   "outputs": [],
   "source": [
    "h_D = h_0.copy(deepcopy=True)\n",
    "u = u_0.copy(deepcopy=True)"
   ]
  },
  {
   "cell_type": "markdown",
   "id": "9db67095",
   "metadata": {},
   "source": [
    "What we're going to do for our perturbation experiment is pick a dimensionless shape function $\\phi$ that goes from 0 on all the other boundaries to 1 on the inflow boundary.\n",
    "We'll then set the inflow thickness to $h + \\delta h\\cdot\\phi$, run it for a while, and see what happens for different values of $\\delta h$.\n",
    "The shape function $\\phi$ should be as smooth as possible; to define it, we'll let it be the solution of the PDE\n",
    "\n",
    "$$-\\alpha^2\\nabla^2\\phi = 1$$\n",
    "\n",
    "subject to the condition that $\\phi = 0$ on all the outflow, side wall, and nunatak boundaries, and $\\nabla\\phi\\cdot\\nu = 0$ on the inflow boundary.\n",
    "(The vector $\\nu$ is the unit outward-pointing normal vector to the boundary of the domain.)\n",
    "We can get other shapes by putting something other than 1 on the right-hand side and I can show you how to do that later; this is just for illustrative purposes."
   ]
  },
  {
   "cell_type": "code",
   "execution_count": null,
   "id": "90ff2752",
   "metadata": {},
   "outputs": [],
   "source": [
    "ϕ = firedrake.Function(Q)\n",
    "\n",
    "f = Constant(1.0)\n",
    "α = Constant(2e3)\n",
    "J = (0.5 * α**2 * inner(grad(ϕ), grad(ϕ)) - f * ϕ) * dx\n",
    "F = firedrake.derivative(J, ϕ)\n",
    "boundary_ids = (1, 3, 4, 5, 6, 7)\n",
    "bc = firedrake.DirichletBC(Q, 0, boundary_ids)\n",
    "firedrake.solve(F == 0, ϕ, bc)\n",
    "\n",
    "ϕ_max = ϕ.dat.data_ro.max()\n",
    "ϕ /= ϕ_max"
   ]
  },
  {
   "cell_type": "code",
   "execution_count": null,
   "id": "323f220e",
   "metadata": {},
   "outputs": [],
   "source": [
    "fig, axes = subplots()\n",
    "colors = firedrake.tripcolor(ϕ, axes=axes)\n",
    "fig.colorbar(colors);"
   ]
  },
  {
   "cell_type": "markdown",
   "id": "6e7d2f44",
   "metadata": {},
   "source": [
    "To decide how much of a perturbation we want to make, we'll first evaluate the average thickness along the inflow boundary."
   ]
  },
  {
   "cell_type": "code",
   "execution_count": null,
   "id": "4514e59d",
   "metadata": {},
   "outputs": [],
   "source": [
    "inflow_ids = (2,)\n",
    "inflow_length = assemble(Constant(1, domain=mesh) * ds(inflow_ids))\n",
    "avg_inflow_thickness = assemble(h_0 * ds(inflow_ids)) / inflow_length\n",
    "print(f\"Average inflow thickness: {avg_inflow_thickness:5.1f} m\")"
   ]
  },
  {
   "cell_type": "markdown",
   "id": "ed5f422c",
   "metadata": {},
   "source": [
    "Let's assume the maximum perturbation amplitude is 1/20 of the average."
   ]
  },
  {
   "cell_type": "code",
   "execution_count": null,
   "id": "4c615029",
   "metadata": {},
   "outputs": [],
   "source": [
    "δh = Constant(avg_inflow_thickness / 20)\n",
    "h = firedrake.interpolate(h_0 + δh * ϕ, Q)\n",
    "h_inflow = h.copy(deepcopy=True)"
   ]
  },
  {
   "cell_type": "markdown",
   "id": "2323ec0a",
   "metadata": {},
   "source": [
    "We'll need to recompute the surface height too."
   ]
  },
  {
   "cell_type": "code",
   "execution_count": null,
   "id": "25efb79b",
   "metadata": {},
   "outputs": [],
   "source": [
    "s = icepack.compute_surface(thickness=h, bed=b)"
   ]
  },
  {
   "cell_type": "markdown",
   "id": "29b6a576",
   "metadata": {},
   "source": [
    "Now let's run the model forward and see what happens."
   ]
  },
  {
   "cell_type": "code",
   "execution_count": null,
   "id": "0c5afdde",
   "metadata": {},
   "outputs": [],
   "source": [
    "T = Constant(260.0)\n",
    "A = icepack.rate_factor(T)\n",
    "a = Constant(0.1)"
   ]
  },
  {
   "cell_type": "code",
   "execution_count": null,
   "id": "0520e430",
   "metadata": {},
   "outputs": [],
   "source": [
    "from firedrake import min_value, max_value\n",
    "\n",
    "s_min = Constant(np.floor(s_0.dat.data_ro.min()))\n",
    "s_max = Constant(np.ceil(s_0.dat.data_ro.max()))\n",
    "\n",
    "a_min = Constant(0.06)\n",
    "a_max = Constant(0.10)\n",
    "\n",
    "def accumulation(s):\n",
    "    λ = (s - s_min) / (s_max - s_min)\n",
    "    a = (1 - λ) * a_min + λ * a_max\n",
    "    return min_value(a_max, max_value(a_min, a))"
   ]
  },
  {
   "cell_type": "code",
   "execution_count": null,
   "id": "a87a7a08",
   "metadata": {},
   "outputs": [],
   "source": [
    "hs = [h.copy(deepcopy=True)]\n",
    "ss = [s.copy(deepcopy=True)]\n",
    "us = [u.copy(deepcopy=True)]"
   ]
  },
  {
   "cell_type": "code",
   "execution_count": null,
   "id": "f54b8f49",
   "metadata": {},
   "outputs": [],
   "source": [
    "final_time = 1200.0\n",
    "dt = 1 / 2\n",
    "num_steps = int(final_time / dt)\n",
    "\n",
    "for step in tqdm.trange(num_steps):\n",
    "    a = firedrake.interpolate(accumulation(s), Q)\n",
    "    \n",
    "    h = solver.prognostic_solve(\n",
    "        dt,\n",
    "        thickness=h,\n",
    "        velocity=u,\n",
    "        accumulation=a,\n",
    "        thickness_inflow=h_inflow,\n",
    "    )\n",
    "    h.interpolate(firedrake.max_value(1.0, h))\n",
    "\n",
    "    s = icepack.compute_surface(thickness=h, bed=b)\n",
    "\n",
    "    u = solver.diagnostic_solve(\n",
    "        velocity=u,\n",
    "        thickness=h,\n",
    "        surface=s,\n",
    "        fluidity=A,\n",
    "        friction=C,\n",
    "        thickness_downstream=h_D,\n",
    "    )\n",
    "    \n",
    "    hs.append(h.copy(deepcopy=True))\n",
    "    ss.append(s.copy(deepcopy=True))\n",
    "    us.append(u.copy(deepcopy=True))"
   ]
  },
  {
   "cell_type": "code",
   "execution_count": null,
   "id": "b31a9807",
   "metadata": {},
   "outputs": [],
   "source": [
    "δhs = [firedrake.interpolate(h - h_0, Q) for h in hs]"
   ]
  },
  {
   "cell_type": "code",
   "execution_count": null,
   "id": "c96a9109",
   "metadata": {},
   "outputs": [],
   "source": [
    "δh_min = np.floor(np.array([δh.dat.data_ro.min() for δh in δhs]).min())\n",
    "δh_max = np.ceil(np.array([δh.dat.data_ro.max() for δh in δhs]).max())\n",
    "δh_min, δh_max"
   ]
  },
  {
   "cell_type": "code",
   "execution_count": null,
   "id": "5be49217",
   "metadata": {},
   "outputs": [],
   "source": [
    "%%capture\n",
    "\n",
    "from matplotlib.animation import FuncAnimation\n",
    "\n",
    "fig, axes = subplots()\n",
    "axes.get_xaxis().set_visible(False)\n",
    "axes.get_yaxis().set_visible(False)\n",
    "\n",
    "colors = firedrake.tripcolor(\n",
    "    δhs[0], axes=axes, vmin=0.0, vmax=δh_max / 2, cmap=\"Blues\", num_sample_points=4\n",
    ")\n",
    "fn_plotter = firedrake.FunctionPlotter(mesh, num_sample_points=4)\n",
    "\n",
    "def animate(δh):\n",
    "    colors.set_array(fn_plotter(δh))\n",
    "\n",
    "interval = 1e3 / 60\n",
    "animation = FuncAnimation(fig, animate, frames=δhs, interval=interval)"
   ]
  },
  {
   "cell_type": "code",
   "execution_count": null,
   "id": "d8ee87cc",
   "metadata": {},
   "outputs": [],
   "source": [
    "from IPython.display import HTML\n",
    "\n",
    "HTML(animation.to_html5_video())"
   ]
  },
  {
   "cell_type": "markdown",
   "id": "3ee89d3b",
   "metadata": {},
   "source": [
    "The simulation before demonstrated one way to recompute the accumulation rate as a function of the surface elevation at every step.\n",
    "Here we'll reverse the perturbation from the inflow thickness slowly over time."
   ]
  },
  {
   "cell_type": "code",
   "execution_count": null,
   "id": "6cc9bfcf",
   "metadata": {},
   "outputs": [],
   "source": [
    "final_time = 1200.0\n",
    "dt = 1 / 2\n",
    "num_steps = int(final_time / dt)\n",
    "\n",
    "λ = Constant(0.0)\n",
    "\n",
    "for step in tqdm.trange(num_steps):\n",
    "    a = firedrake.interpolate(accumulation(s), Q)\n",
    "    \n",
    "    λ.assign(min(step * dt / (final_time / 4), 1.0))\n",
    "    δh.assign((1 - λ) * avg_inflow_thickness / 20)\n",
    "    h_inflow.interpolate(h_0 + δh * ϕ)\n",
    "    \n",
    "    h = solver.prognostic_solve(\n",
    "        dt,\n",
    "        thickness=h,\n",
    "        velocity=u,\n",
    "        accumulation=a,\n",
    "        thickness_inflow=h_inflow,\n",
    "    )\n",
    "    h.interpolate(firedrake.max_value(1.0, h))\n",
    "\n",
    "    s = icepack.compute_surface(thickness=h, bed=b)\n",
    "\n",
    "    u = solver.diagnostic_solve(\n",
    "        velocity=u,\n",
    "        thickness=h,\n",
    "        surface=s,\n",
    "        fluidity=A,\n",
    "        friction=C,\n",
    "        thickness_downstream=h_D,\n",
    "    )\n",
    "    \n",
    "    hs.append(h.copy(deepcopy=True))\n",
    "    ss.append(s.copy(deepcopy=True))\n",
    "    us.append(u.copy(deepcopy=True))"
   ]
  },
  {
   "cell_type": "markdown",
   "id": "57cbf71e",
   "metadata": {},
   "source": [
    "Finally, we'll plot the average thickness throughout the whole domain as a function of time.\n",
    "The first 1200 years show increase, the second 1200 relaxation back."
   ]
  },
  {
   "cell_type": "code",
   "execution_count": null,
   "id": "7e4cefb8",
   "metadata": {},
   "outputs": [],
   "source": [
    "area = assemble(Constant(1) * dx(mesh))\n",
    "avg_thicknesses = [assemble(h * dx) / area for h in hs]"
   ]
  },
  {
   "cell_type": "code",
   "execution_count": null,
   "id": "282c0f41",
   "metadata": {},
   "outputs": [],
   "source": [
    "fig, axes = plt.subplots()\n",
    "ts = np.linspace(0.0, 2 * final_time, 2 * num_steps + 1)\n",
    "axes.set_xlabel(\"time (years)\")\n",
    "axes.set_ylabel(\"average thickness (meters)\")\n",
    "axes.plot(ts, avg_thicknesses);"
   ]
  }
 ],
 "metadata": {
  "kernelspec": {
   "display_name": "firedrake",
   "language": "python",
   "name": "firedrake"
  },
  "language_info": {
   "codemirror_mode": {
    "name": "ipython",
    "version": 3
   },
   "file_extension": ".py",
   "mimetype": "text/x-python",
   "name": "python",
   "nbconvert_exporter": "python",
   "pygments_lexer": "ipython3",
   "version": "3.10.2"
  }
 },
 "nbformat": 4,
 "nbformat_minor": 5
}
