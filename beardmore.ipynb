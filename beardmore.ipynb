{
 "cells": [
  {
   "cell_type": "code",
   "execution_count": null,
   "id": "77f52d3b",
   "metadata": {},
   "outputs": [],
   "source": [
    "import subprocess\n",
    "import numpy as np\n",
    "import matplotlib.pyplot as plt\n",
    "import matplotlib.colors\n",
    "import geojson\n",
    "import rasterio\n",
    "import pygmsh\n",
    "import firedrake\n",
    "from firedrake import sqrt, inner, grad, dx\n",
    "import icepack\n",
    "from icepack.constants import (\n",
    "    ice_density as ρ_I, gravity as g, weertman_sliding_law as m\n",
    ")"
   ]
  },
  {
   "cell_type": "markdown",
   "id": "30acec14",
   "metadata": {},
   "source": [
    "Load up the hand-digitized outline of the glacier, convert it into the input format for gmsh, generate the mesh using gmsh, and then load up the triangular mesh."
   ]
  },
  {
   "cell_type": "code",
   "execution_count": null,
   "id": "37a15230",
   "metadata": {},
   "outputs": [],
   "source": [
    "outline_filename = \"beardmore.geojson\"\n",
    "with open(outline_filename, \"r\") as outline_file:\n",
    "    outline = geojson.load(outline_file)\n",
    "\n",
    "geometry = icepack.meshing.collection_to_geo(outline)\n",
    "with open(\"beardmore.geo\", \"w\") as geo_file:\n",
    "    geo_file.write(geometry.get_code())\n",
    "    \n",
    "command = \"gmsh -2 -format msh2 -v 2 -o beardmore.msh beardmore.geo\"\n",
    "subprocess.run(command.split(\" \"))\n",
    "\n",
    "mesh = firedrake.Mesh(\"beardmore.msh\")"
   ]
  },
  {
   "cell_type": "markdown",
   "id": "3cce2b1a",
   "metadata": {},
   "source": [
    "Fetch the Mosaic of Antarctica so that we can make pretty pictures."
   ]
  },
  {
   "cell_type": "code",
   "execution_count": null,
   "id": "44be1fff",
   "metadata": {},
   "outputs": [],
   "source": [
    "coords = np.array(list(geojson.utils.coords(outline)))\n",
    "delta = 10e3\n",
    "xmin, xmax = coords[:, 0].min() - delta, coords[:, 0].max() + delta\n",
    "ymin, ymax = coords[:, 1].min() - delta, coords[:, 1].max() + delta"
   ]
  },
  {
   "cell_type": "code",
   "execution_count": null,
   "id": "687d5e64",
   "metadata": {},
   "outputs": [],
   "source": [
    "image_filename = icepack.datasets.fetch_mosaic_of_antarctica()\n",
    "with rasterio.open(image_filename, \"r\") as image_file:\n",
    "    height, width = image_file.height, image_file.width\n",
    "    transform = image_file.transform\n",
    "    window = rasterio.windows.from_bounds(\n",
    "        left=xmin,\n",
    "        bottom=ymin,\n",
    "        right=xmax,\n",
    "        top=ymax,\n",
    "        width=width,\n",
    "        height=height,\n",
    "        transform=transform,\n",
    "    )\n",
    "    image = image_file.read(indexes=1, window=window, masked=True)"
   ]
  },
  {
   "cell_type": "code",
   "execution_count": null,
   "id": "f9bce76e",
   "metadata": {},
   "outputs": [],
   "source": [
    "def subplots(*args, **kwargs):\n",
    "    fig, axes = plt.subplots()\n",
    "    axes.set_aspect(\"equal\")\n",
    "    xmin, ymin, xmax, ymax = rasterio.windows.bounds(window, transform)\n",
    "    axes.imshow(\n",
    "        image,\n",
    "        cmap=\"Greys_r\",\n",
    "        vmin=12e3,\n",
    "        vmax=16.38e3,\n",
    "        extent=(xmin, xmax, ymin, ymax),\n",
    "    )\n",
    "\n",
    "    return fig, axes"
   ]
  },
  {
   "cell_type": "markdown",
   "id": "e4846158",
   "metadata": {},
   "source": [
    "Show the mesh on top of some imagery so we can make sure everything is where it should be."
   ]
  },
  {
   "cell_type": "code",
   "execution_count": null,
   "id": "32d6155a",
   "metadata": {},
   "outputs": [],
   "source": [
    "fig, axes = subplots()\n",
    "kwargs = {\n",
    "    \"interior_kw\": {\"linewidth\": 0.25},\n",
    "    \"boundary_kw\": {\"linewidth\": 2},\n",
    "}\n",
    "firedrake.triplot(mesh, axes=axes, **kwargs)\n",
    "axes.legend();"
   ]
  },
  {
   "cell_type": "markdown",
   "id": "2414f739",
   "metadata": {},
   "source": [
    "Make some function spaces -- here we're deciding to use piecewise quadratic basis functions in each triangle to represent fields defined on this mesh."
   ]
  },
  {
   "cell_type": "code",
   "execution_count": null,
   "id": "2e42e530",
   "metadata": {},
   "outputs": [],
   "source": [
    "Q = firedrake.FunctionSpace(mesh, family=\"CG\", degree=2)\n",
    "V = firedrake.VectorFunctionSpace(mesh, family=\"CG\", degree=2)"
   ]
  },
  {
   "cell_type": "markdown",
   "id": "fb75ebc6",
   "metadata": {},
   "source": [
    "Start fetching some observational data sets and interpolating them to our finite element spaces."
   ]
  },
  {
   "cell_type": "code",
   "execution_count": null,
   "id": "efbcb56d",
   "metadata": {},
   "outputs": [],
   "source": [
    "bedmachine_filename = icepack.datasets.fetch_bedmachine_antarctica()\n",
    "thickness_filename = f\"netcdf:{bedmachine_filename}:thickness\"\n",
    "with rasterio.open(thickness_filename, \"r\") as thickness_file:\n",
    "    h = icepack.interpolate(thickness_file, Q)\n",
    "    \n",
    "surface_filename = f\"netcdf:{bedmachine_filename}:surface\"\n",
    "with rasterio.open(surface_filename, \"r\") as surface_file:\n",
    "    s = icepack.interpolate(surface_file, Q)"
   ]
  },
  {
   "cell_type": "markdown",
   "id": "b67c7d31",
   "metadata": {},
   "source": [
    "Plot the thickness and surface elevation."
   ]
  },
  {
   "cell_type": "code",
   "execution_count": null,
   "id": "17794f31",
   "metadata": {},
   "outputs": [],
   "source": [
    "fig, axes = subplots()\n",
    "colors = firedrake.tripcolor(s, axes=axes)\n",
    "fig.colorbar(colors);"
   ]
  },
  {
   "cell_type": "code",
   "execution_count": null,
   "id": "4a32e843",
   "metadata": {},
   "outputs": [],
   "source": [
    "fig, axes = subplots()\n",
    "colors = firedrake.tripcolor(h, axes=axes)\n",
    "fig.colorbar(colors);"
   ]
  },
  {
   "cell_type": "markdown",
   "id": "702c0266",
   "metadata": {},
   "source": [
    "Now fetch and interpolate the velocities."
   ]
  },
  {
   "cell_type": "code",
   "execution_count": null,
   "id": "46081964",
   "metadata": {},
   "outputs": [],
   "source": [
    "measures_filename = icepack.datasets.fetch_measures_antarctica()\n",
    "with rasterio.open(f\"netcdf:{measures_filename}:VX\", \"r\") as vx_file, \\\n",
    "     rasterio.open(f\"netcdf:{measures_filename}:VY\", \"r\") as vy_file:\n",
    "    u = icepack.interpolate((vx_file, vy_file), V)"
   ]
  },
  {
   "cell_type": "code",
   "execution_count": null,
   "id": "2f4412ef",
   "metadata": {},
   "outputs": [],
   "source": [
    "log_norm = matplotlib.colors.LogNorm(vmin=1.0, vmax=400.0)\n",
    "\n",
    "fig, axes = subplots()\n",
    "streamlines = firedrake.streamplot(\n",
    "    u, norm=log_norm, axes=axes, resolution=2.5e3, seed=1729\n",
    ")\n",
    "fig.colorbar(streamlines);"
   ]
  },
  {
   "cell_type": "markdown",
   "id": "516d42e2",
   "metadata": {},
   "source": [
    "Next we'll calculate a very smoothed-over driving stress.\n",
    "We'll use this to guess at the friction coefficient."
   ]
  },
  {
   "cell_type": "code",
   "execution_count": null,
   "id": "3a4215de",
   "metadata": {},
   "outputs": [],
   "source": [
    "α = firedrake.Constant(10e3)\n",
    "τ = firedrake.Function(V)\n",
    "τ_d = -ρ_I * g * h * grad(s)\n",
    "misfit = 0.5 * inner(τ - τ_d, τ - τ_d) * dx\n",
    "smoothness = 0.5 * α ** 2 * inner(grad(τ), grad(τ)) * dx\n",
    "J = misfit + smoothness\n",
    "F = firedrake.derivative(J, τ)\n",
    "firedrake.solve(F == 0, τ)"
   ]
  },
  {
   "cell_type": "code",
   "execution_count": null,
   "id": "b29b16db",
   "metadata": {},
   "outputs": [],
   "source": [
    "fig, axes = subplots()\n",
    "colors = firedrake.tripcolor(τ, axes=axes)\n",
    "fig.colorbar(colors);"
   ]
  },
  {
   "cell_type": "markdown",
   "id": "6fbbce8b",
   "metadata": {},
   "source": [
    "We'll estimate that basal friction coefficient takes up half the driving stress and that the ice is at a uniform temperature of -13C."
   ]
  },
  {
   "cell_type": "code",
   "execution_count": null,
   "id": "6effc847",
   "metadata": {},
   "outputs": [],
   "source": [
    "fraction = firedrake.Constant(0.5)\n",
    "expr = fraction * sqrt(inner(τ, τ)) / sqrt(inner(u, u)) ** (1 / m)\n",
    "C = firedrake.interpolate(expr, Q)"
   ]
  },
  {
   "cell_type": "code",
   "execution_count": null,
   "id": "eb9d9e61",
   "metadata": {},
   "outputs": [],
   "source": [
    "T = firedrake.Constant(260.0)\n",
    "A = icepack.rate_factor(T)"
   ]
  },
  {
   "cell_type": "code",
   "execution_count": null,
   "id": "9311e2af",
   "metadata": {},
   "outputs": [],
   "source": [
    "model = icepack.models.IceStream()\n",
    "opts = {\n",
    "    \"dirichlet_ids\": [1, 2, 3, 5, 6, 7],\n",
    "    \"diagnostic_solver_type\": \"icepack\",\n",
    "    \"diagnostic_solver_kwargs\": {\n",
    "        \"ksp_type\": \"gmres\",\n",
    "        \"pc_type\": \"lu\",\n",
    "        \"pc_factor_mat_solver_type\": \"mumps\",\n",
    "    },\n",
    "}\n",
    "solver = icepack.solvers.FlowSolver(model, **opts)"
   ]
  },
  {
   "cell_type": "code",
   "execution_count": null,
   "id": "e324195f",
   "metadata": {},
   "outputs": [],
   "source": [
    "u = solver.diagnostic_solve(\n",
    "    velocity=u,\n",
    "    thickness=h,\n",
    "    surface=s,\n",
    "    fluidity=A,\n",
    "    friction=C,\n",
    ")"
   ]
  },
  {
   "cell_type": "markdown",
   "id": "916680d9",
   "metadata": {},
   "source": [
    "The results are much faster than observations but not so far out there that we can't tweak them a bit."
   ]
  },
  {
   "cell_type": "code",
   "execution_count": null,
   "id": "23defe70",
   "metadata": {},
   "outputs": [],
   "source": [
    "fig, axes = subplots()\n",
    "streamlines = firedrake.streamplot(\n",
    "    u, norm=log_norm, axes=axes, resolution=2.5e3, seed=1729\n",
    ")\n",
    "fig.colorbar(streamlines);"
   ]
  }
 ],
 "metadata": {
  "kernelspec": {
   "display_name": "firedrake",
   "language": "python",
   "name": "firedrake"
  },
  "language_info": {
   "codemirror_mode": {
    "name": "ipython",
    "version": 3
   },
   "file_extension": ".py",
   "mimetype": "text/x-python",
   "name": "python",
   "nbconvert_exporter": "python",
   "pygments_lexer": "ipython3",
   "version": "3.9.7"
  }
 },
 "nbformat": 4,
 "nbformat_minor": 5
}
