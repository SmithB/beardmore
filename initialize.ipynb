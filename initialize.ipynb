{
 "cells": [
  {
   "cell_type": "code",
   "execution_count": null,
   "id": "77f52d3b",
   "metadata": {},
   "outputs": [],
   "source": [
    "import subprocess\n",
    "import numpy as np\n",
    "import matplotlib.pyplot as plt\n",
    "import matplotlib.colors\n",
    "import geojson\n",
    "import rasterio\n",
    "import pygmsh\n",
    "import firedrake\n",
    "from firedrake import Constant, assemble, sqrt, inner, grad, avg, jump, dx, dS\n",
    "import icepack\n",
    "from icepack.constants import (\n",
    "    ice_density as ρ_I, gravity as g, weertman_sliding_law as m\n",
    ")"
   ]
  },
  {
   "cell_type": "markdown",
   "id": "30acec14",
   "metadata": {},
   "source": [
    "Load up the hand-digitized outline of the glacier, convert it into the input format for gmsh, generate the mesh using gmsh, and then load up the triangular mesh."
   ]
  },
  {
   "cell_type": "code",
   "execution_count": null,
   "id": "37a15230",
   "metadata": {},
   "outputs": [],
   "source": [
    "outline_filename = \"beardmore.geojson\"\n",
    "with open(outline_filename, \"r\") as outline_file:\n",
    "    outline = geojson.load(outline_file)\n",
    "\n",
    "geometry = icepack.meshing.collection_to_geo(outline)\n",
    "with open(\"beardmore.geo\", \"w\") as geo_file:\n",
    "    geo_file.write(geometry.get_code())\n",
    "    \n",
    "command = \"gmsh -2 -format msh2 -v 2 -o beardmore.msh beardmore.geo\"\n",
    "subprocess.run(command.split(\" \"))\n",
    "\n",
    "mesh = firedrake.Mesh(\"beardmore.msh\")"
   ]
  },
  {
   "cell_type": "markdown",
   "id": "3cce2b1a",
   "metadata": {},
   "source": [
    "Fetch the Mosaic of Antarctica so that we can make pretty pictures."
   ]
  },
  {
   "cell_type": "code",
   "execution_count": null,
   "id": "44be1fff",
   "metadata": {},
   "outputs": [],
   "source": [
    "coords = np.array(list(geojson.utils.coords(outline)))\n",
    "delta = 10e3\n",
    "xmin, xmax = coords[:, 0].min() - delta, coords[:, 0].max() + delta\n",
    "ymin, ymax = coords[:, 1].min() - delta, coords[:, 1].max() + delta"
   ]
  },
  {
   "cell_type": "code",
   "execution_count": null,
   "id": "687d5e64",
   "metadata": {},
   "outputs": [],
   "source": [
    "image_filename = icepack.datasets.fetch_mosaic_of_antarctica()\n",
    "with rasterio.open(image_filename, \"r\") as image_file:\n",
    "    height, width = image_file.height, image_file.width\n",
    "    transform = image_file.transform\n",
    "    window = rasterio.windows.from_bounds(\n",
    "        left=xmin,\n",
    "        bottom=ymin,\n",
    "        right=xmax,\n",
    "        top=ymax,\n",
    "        transform=transform,\n",
    "    )\n",
    "    image = image_file.read(indexes=1, window=window, masked=True)"
   ]
  },
  {
   "cell_type": "code",
   "execution_count": null,
   "id": "f9bce76e",
   "metadata": {},
   "outputs": [],
   "source": [
    "def subplots(*args, **kwargs):\n",
    "    fig, axes = plt.subplots()\n",
    "    axes.set_aspect(\"equal\")\n",
    "    xmin, ymin, xmax, ymax = rasterio.windows.bounds(window, transform)\n",
    "    axes.imshow(\n",
    "        image,\n",
    "        cmap=\"Greys_r\",\n",
    "        vmin=12e3,\n",
    "        vmax=16.38e3,\n",
    "        extent=(xmin, xmax, ymin, ymax),\n",
    "    )\n",
    "\n",
    "    return fig, axes"
   ]
  },
  {
   "cell_type": "markdown",
   "id": "e4846158",
   "metadata": {},
   "source": [
    "Show the mesh on top of some imagery so we can make sure everything is where it should be."
   ]
  },
  {
   "cell_type": "code",
   "execution_count": null,
   "id": "32d6155a",
   "metadata": {},
   "outputs": [],
   "source": [
    "fig, axes = subplots()\n",
    "kwargs = {\n",
    "    \"interior_kw\": {\"linewidth\": 0.25},\n",
    "    \"boundary_kw\": {\"linewidth\": 2},\n",
    "}\n",
    "firedrake.triplot(mesh, axes=axes, **kwargs)\n",
    "axes.legend();"
   ]
  },
  {
   "cell_type": "markdown",
   "id": "2414f739",
   "metadata": {},
   "source": [
    "Make some function spaces -- here we're deciding to use piecewise quadratic basis functions in each triangle to represent fields defined on this mesh."
   ]
  },
  {
   "cell_type": "code",
   "execution_count": null,
   "id": "2e42e530",
   "metadata": {},
   "outputs": [],
   "source": [
    "Q = firedrake.FunctionSpace(mesh, family=\"CG\", degree=2)\n",
    "V = firedrake.VectorFunctionSpace(mesh, family=\"CG\", degree=2)"
   ]
  },
  {
   "cell_type": "markdown",
   "id": "fb75ebc6",
   "metadata": {},
   "source": [
    "Start fetching some observational data sets and interpolating them to our finite element spaces."
   ]
  },
  {
   "cell_type": "code",
   "execution_count": null,
   "id": "efbcb56d",
   "metadata": {},
   "outputs": [],
   "source": [
    "bedmachine_filename = icepack.datasets.fetch_bedmachine_antarctica()\n",
    "thickness_filename = f\"netcdf:{bedmachine_filename}:thickness\"\n",
    "with rasterio.open(thickness_filename, \"r\") as thickness_file:\n",
    "    h = icepack.interpolate(thickness_file, Q)\n",
    "    \n",
    "surface_filename = f\"netcdf:{bedmachine_filename}:surface\"\n",
    "with rasterio.open(surface_filename, \"r\") as surface_file:\n",
    "    s = icepack.interpolate(surface_file, Q)"
   ]
  },
  {
   "cell_type": "markdown",
   "id": "b67c7d31",
   "metadata": {},
   "source": [
    "Plot the thickness and surface elevation."
   ]
  },
  {
   "cell_type": "code",
   "execution_count": null,
   "id": "17794f31",
   "metadata": {},
   "outputs": [],
   "source": [
    "fig, axes = subplots()\n",
    "colors = firedrake.tripcolor(s, axes=axes)\n",
    "fig.colorbar(colors);"
   ]
  },
  {
   "cell_type": "code",
   "execution_count": null,
   "id": "4a32e843",
   "metadata": {},
   "outputs": [],
   "source": [
    "fig, axes = subplots()\n",
    "colors = firedrake.tripcolor(h, axes=axes)\n",
    "fig.colorbar(colors);"
   ]
  },
  {
   "cell_type": "markdown",
   "id": "702c0266",
   "metadata": {},
   "source": [
    "Now fetch and interpolate the velocities."
   ]
  },
  {
   "cell_type": "code",
   "execution_count": null,
   "id": "46081964",
   "metadata": {},
   "outputs": [],
   "source": [
    "measures_filename = icepack.datasets.fetch_measures_antarctica()\n",
    "with rasterio.open(f\"netcdf:{measures_filename}:VX\", \"r\") as vx_file, \\\n",
    "     rasterio.open(f\"netcdf:{measures_filename}:VY\", \"r\") as vy_file:\n",
    "    u_obs = icepack.interpolate((vx_file, vy_file), V)"
   ]
  },
  {
   "cell_type": "code",
   "execution_count": null,
   "id": "2f4412ef",
   "metadata": {},
   "outputs": [],
   "source": [
    "log_norm = matplotlib.colors.LogNorm(vmin=1.0, vmax=400.0)\n",
    "\n",
    "fig, axes = subplots()\n",
    "streamlines = firedrake.streamplot(\n",
    "    u_obs, norm=log_norm, axes=axes, resolution=2.5e3, seed=1729\n",
    ")\n",
    "fig.colorbar(streamlines);"
   ]
  },
  {
   "cell_type": "markdown",
   "id": "516d42e2",
   "metadata": {},
   "source": [
    "Next we'll calculate a very smoothed-over driving stress.\n",
    "We'll use this to guess at the friction coefficient."
   ]
  },
  {
   "cell_type": "code",
   "execution_count": null,
   "id": "3a4215de",
   "metadata": {},
   "outputs": [],
   "source": [
    "α = Constant(10e3)\n",
    "τ = firedrake.Function(V)\n",
    "τ_d = -ρ_I * g * h * grad(s)\n",
    "misfit = 0.5 * inner(τ - τ_d, τ - τ_d) * dx\n",
    "smoothness = 0.5 * α ** 2 * inner(grad(τ), grad(τ)) * dx\n",
    "J = misfit + smoothness\n",
    "F = firedrake.derivative(J, τ)\n",
    "firedrake.solve(F == 0, τ)"
   ]
  },
  {
   "cell_type": "code",
   "execution_count": null,
   "id": "b29b16db",
   "metadata": {},
   "outputs": [],
   "source": [
    "fig, axes = subplots()\n",
    "colors = firedrake.tripcolor(τ, axes=axes)\n",
    "fig.colorbar(colors);"
   ]
  },
  {
   "cell_type": "markdown",
   "id": "6fbbce8b",
   "metadata": {},
   "source": [
    "We'll estimate that basal friction coefficient takes up half the driving stress and that the ice is at a uniform temperature of -13C."
   ]
  },
  {
   "cell_type": "code",
   "execution_count": null,
   "id": "6effc847",
   "metadata": {},
   "outputs": [],
   "source": [
    "fraction = Constant(0.5)\n",
    "expr = fraction * sqrt(inner(τ, τ)) / sqrt(inner(u_obs, u_obs)) ** (1 / m)\n",
    "C = firedrake.interpolate(expr, Q)\n",
    "area = Constant(assemble(Constant(1.0) * dx(mesh)))\n",
    "C_0 = Constant(assemble(C * dx) / float(area))"
   ]
  },
  {
   "cell_type": "code",
   "execution_count": null,
   "id": "eb9d9e61",
   "metadata": {},
   "outputs": [],
   "source": [
    "T = Constant(260.0)\n",
    "A = icepack.rate_factor(T)"
   ]
  },
  {
   "cell_type": "markdown",
   "id": "e6126673",
   "metadata": {},
   "source": [
    "We'll modify how the basal friction is calculated so that we can easily estimate what the friction coefficient is."
   ]
  },
  {
   "cell_type": "code",
   "execution_count": null,
   "id": "29ad513b",
   "metadata": {},
   "outputs": [],
   "source": [
    "def friction(**kwargs):\n",
    "    u = kwargs[\"velocity\"]\n",
    "    θ = kwargs[\"log_friction\"]\n",
    "    C = C_0 * firedrake.exp(θ)\n",
    "    return icepack.models.friction.bed_friction(velocity=u, friction=C)"
   ]
  },
  {
   "cell_type": "code",
   "execution_count": null,
   "id": "9311e2af",
   "metadata": {},
   "outputs": [],
   "source": [
    "model = icepack.models.IceStream(friction=friction)\n",
    "opts = {\n",
    "    \"dirichlet_ids\": [1, 2, 3, 4, 5, 6, 7],\n",
    "    \"diagnostic_solver_type\": \"petsc\",\n",
    "    \"diagnostic_solver_parameters\": {\n",
    "        \"snes_type\": \"newtontr\",\n",
    "        \"ksp_type\": \"gmres\",\n",
    "        \"pc_type\": \"lu\",\n",
    "        \"pc_factor_mat_solver_type\": \"mumps\",\n",
    "    },\n",
    "}\n",
    "solver = icepack.solvers.FlowSolver(model, **opts)"
   ]
  },
  {
   "cell_type": "code",
   "execution_count": null,
   "id": "e8c9211d",
   "metadata": {},
   "outputs": [],
   "source": [
    "θ = firedrake.Function(Q)"
   ]
  },
  {
   "cell_type": "code",
   "execution_count": null,
   "id": "e324195f",
   "metadata": {},
   "outputs": [],
   "source": [
    "u = solver.diagnostic_solve(\n",
    "    velocity=u_obs,\n",
    "    thickness=h,\n",
    "    surface=s,\n",
    "    fluidity=A,\n",
    "    log_friction=θ,\n",
    ")"
   ]
  },
  {
   "cell_type": "markdown",
   "id": "916680d9",
   "metadata": {},
   "source": [
    "The results are much faster than observations but not so far out there that we can't tweak them a bit."
   ]
  },
  {
   "cell_type": "code",
   "execution_count": null,
   "id": "23defe70",
   "metadata": {},
   "outputs": [],
   "source": [
    "fig, axes = subplots()\n",
    "streamlines = firedrake.streamplot(\n",
    "    u, norm=log_norm, axes=axes, resolution=2.5e3, seed=1729\n",
    ")\n",
    "fig.colorbar(streamlines);"
   ]
  },
  {
   "cell_type": "markdown",
   "id": "13b264aa",
   "metadata": {},
   "source": [
    "We need to do a bit of a dirty hack in order to use biharmonic regularization.\n",
    "It involves some funny penalty terms involving the minimum angle between any two edges of the mesh.\n",
    "The cell below calculates this minimum angle."
   ]
  },
  {
   "cell_type": "code",
   "execution_count": null,
   "id": "62ac899d",
   "metadata": {},
   "outputs": [],
   "source": [
    "from numpy.linalg import norm\n",
    "\n",
    "coords = mesh.coordinates.dat.data_ro\n",
    "cells = mesh.coordinates.cell_node_map().values\n",
    "\n",
    "min_angle = np.inf\n",
    "for cell in cells:\n",
    "    for k in range(3):\n",
    "        x, y, z = coords[np.roll(cell, k)]\n",
    "        ζ, ξ = y - x, z - x\n",
    "        angle = np.arccos(np.inner(ζ, ξ) / (norm(ζ) * norm(ξ)))\n",
    "        min_angle = min(angle, min_angle)"
   ]
  },
  {
   "cell_type": "markdown",
   "id": "0da2c290",
   "metadata": {},
   "source": [
    "I've explained a bit of the sorcery below on [my website](https://shapero.xyz/posts/nitsches-method/) but you probably shouldn't ever look at that.\n",
    "You should just be able to copy-paste this and call it good.\n",
    "The only thing you might need to modify is to increase $L$ if you want a smoother solution and decrease it if the fit to the observations isn't good enough."
   ]
  },
  {
   "cell_type": "code",
   "execution_count": null,
   "id": "ca7e905b",
   "metadata": {},
   "outputs": [],
   "source": [
    "L = Constant(5e2)\n",
    "\n",
    "def regularization(θ):\n",
    "    dθ = grad(θ)\n",
    "    ν = firedrake.FacetNormal(mesh)\n",
    "    dθ_dν = inner(dθ, ν)\n",
    "    \n",
    "    degree = θ.ufl_element().degree()\n",
    "    ℓ = avg(firedrake.CellSize(mesh))\n",
    "    γ = Constant(\n",
    "        4 * (degree - 1) * degree / (np.sin(min_angle) * np.tan(min_angle / 2))\n",
    "    )\n",
    "\n",
    "    internal = inner(grad(dθ), grad(dθ)) * dx\n",
    "    edge_constraint = 2 * avg(inner(grad(dθ_dν), ν)) * jump(dθ_dν) * dS\n",
    "    edge_penalty = γ / ℓ * jump(dθ_dν)**2 * dS\n",
    "    weight = 0.5 * L**4 / area\n",
    "    \n",
    "    return weight * (internal + edge_constraint + edge_penalty)"
   ]
  },
  {
   "cell_type": "markdown",
   "id": "2074a95a",
   "metadata": {},
   "source": [
    "Now let's try and see what the basal friction has to be."
   ]
  },
  {
   "cell_type": "code",
   "execution_count": null,
   "id": "663aac07",
   "metadata": {},
   "outputs": [],
   "source": [
    "def simulation(θ):\n",
    "    return solver.diagnostic_solve(\n",
    "        velocity=u_obs,\n",
    "        thickness=h,\n",
    "        surface=s,\n",
    "        fluidity=A,\n",
    "        log_friction=θ,\n",
    "    )\n",
    "\n",
    "σx = Constant(5.0)\n",
    "σy = Constant(5.0)\n",
    "def loss_functional(u):\n",
    "    δu = u - u_obs\n",
    "    return 0.5 / area * ((δu[0] / σx)**2 + (δu[1] / σy)**2) * dx"
   ]
  },
  {
   "cell_type": "code",
   "execution_count": null,
   "id": "45238f27",
   "metadata": {},
   "outputs": [],
   "source": [
    "from icepack.statistics import StatisticsProblem, MaximumProbabilityEstimator\n",
    "\n",
    "problem = StatisticsProblem(\n",
    "    simulation=simulation,\n",
    "    loss_functional=loss_functional,\n",
    "    regularization=regularization,\n",
    "    controls=θ,\n",
    ")"
   ]
  },
  {
   "cell_type": "code",
   "execution_count": null,
   "id": "6521c409",
   "metadata": {},
   "outputs": [],
   "source": [
    "estimator = MaximumProbabilityEstimator(\n",
    "    problem,\n",
    "    gradient_tolerance=1e-5,\n",
    "    step_tolerance=1e-3,\n",
    "    max_iterations=50,\n",
    ")\n",
    "θ = estimator.solve()"
   ]
  },
  {
   "cell_type": "code",
   "execution_count": null,
   "id": "e79f8fae",
   "metadata": {},
   "outputs": [],
   "source": [
    "fig, axes = subplots()\n",
    "colors = firedrake.tripcolor(θ, vmin=-3, vmax=+3, axes=axes)\n",
    "fig.colorbar(colors);"
   ]
  },
  {
   "cell_type": "markdown",
   "id": "7c096b59",
   "metadata": {},
   "source": [
    "The result does a pretty good job matching hte observed velocities."
   ]
  },
  {
   "cell_type": "code",
   "execution_count": null,
   "id": "af18d683",
   "metadata": {},
   "outputs": [],
   "source": [
    "u = simulation(θ)"
   ]
  },
  {
   "cell_type": "code",
   "execution_count": null,
   "id": "87fb6c85",
   "metadata": {},
   "outputs": [],
   "source": [
    "fig, axes = subplots()\n",
    "streamlines = firedrake.streamplot(\n",
    "    u, norm=log_norm, axes=axes, resolution=2.5e3, seed=1729\n",
    ")\n",
    "fig.colorbar(streamlines);"
   ]
  },
  {
   "cell_type": "code",
   "execution_count": null,
   "id": "10bd098f",
   "metadata": {},
   "outputs": [],
   "source": [
    "δu = firedrake.interpolate(sqrt(inner(u - u_obs, u - u_obs)), Q)"
   ]
  },
  {
   "cell_type": "code",
   "execution_count": null,
   "id": "854d8f03",
   "metadata": {},
   "outputs": [],
   "source": [
    "fig, axes = subplots()\n",
    "colors = firedrake.tripcolor(δu, vmin=0.0, vmax=20.0, axes=axes)\n",
    "fig.colorbar(colors);"
   ]
  },
  {
   "cell_type": "markdown",
   "id": "6886d98c",
   "metadata": {},
   "source": [
    "Save the results to disk; we'll resume the simulation in another notebook."
   ]
  },
  {
   "cell_type": "code",
   "execution_count": null,
   "id": "ec024e6b",
   "metadata": {},
   "outputs": [],
   "source": [
    "C = firedrake.interpolate(C_0 * firedrake.exp(θ), Q)\n",
    "filename = \"modern_state.h5\"\n",
    "with firedrake.CheckpointFile(filename, \"w\") as chk:\n",
    "    chk.save_function(C, name=\"friction\")\n",
    "    chk.save_function(u, name=\"velocity\")"
   ]
  },
  {
   "cell_type": "markdown",
   "id": "37bd62d5",
   "metadata": {},
   "source": [
    "But a bit of analysis is in order.\n",
    "Just because the velocity that we compute matches observations well doesn't mean that it gives a reasonable local dynamic mass balance.\n",
    "The figure below shows $\\nabla\\cdot hu$, which reaches +/-20 m/yr throughout much of the trunk.\n",
    "We can try to fix this if it's important.\n",
    "It results in pretty big transients and that's why we'll need fine temporal resolution to initialize a spin-up from here."
   ]
  },
  {
   "cell_type": "code",
   "execution_count": null,
   "id": "2d54b3c5",
   "metadata": {},
   "outputs": [],
   "source": [
    "from firedrake import div\n",
    "\n",
    "q = firedrake.project(div(h * u), Q)"
   ]
  },
  {
   "cell_type": "code",
   "execution_count": null,
   "id": "840fcb52",
   "metadata": {},
   "outputs": [],
   "source": [
    "fig, axes = subplots()\n",
    "colors = firedrake.tripcolor(q, vmin=-20, vmax=+20, cmap=\"RdBu\", axes=axes)\n",
    "fig.colorbar(colors);"
   ]
  },
  {
   "cell_type": "markdown",
   "id": "88776584",
   "metadata": {},
   "source": [
    "To inform the later simulations, it's also worth looking at what the steady state accumulation rate would have to be to account for the difference between inflow and outflow."
   ]
  },
  {
   "cell_type": "code",
   "execution_count": null,
   "id": "2468d1f2",
   "metadata": {},
   "outputs": [],
   "source": [
    "from firedrake import ds\n",
    "\n",
    "outflow_ids = (4,)\n",
    "inflow_ids = (2,)\n",
    "\n",
    "ν = firedrake.FacetNormal(mesh)\n",
    "outflow = assemble(h * inner(u, ν) * ds(outflow_ids))\n",
    "inflow = -assemble(h * inner(u, ν) * ds(inflow_ids))\n",
    "print(f\"Inflow:                   {inflow / 1e9:5.3f} km³ / yr\")\n",
    "print(f\"outflow:                  {outflow / 1e9:5.3f} km³ / yr\")\n",
    "\n",
    "acc = (outflow - inflow) / float(area)\n",
    "print(f\"Avg steady accumulation:  {acc:5.3f} m / yr\")"
   ]
  }
 ],
 "metadata": {
  "kernelspec": {
   "display_name": "firedrake",
   "language": "python",
   "name": "firedrake"
  },
  "language_info": {
   "codemirror_mode": {
    "name": "ipython",
    "version": 3
   },
   "file_extension": ".py",
   "mimetype": "text/x-python",
   "name": "python",
   "nbconvert_exporter": "python",
   "pygments_lexer": "ipython3",
   "version": "3.10.2"
  }
 },
 "nbformat": 4,
 "nbformat_minor": 5
}
